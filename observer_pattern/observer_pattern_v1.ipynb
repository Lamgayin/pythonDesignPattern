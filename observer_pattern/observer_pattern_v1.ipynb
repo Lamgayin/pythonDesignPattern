{
 "cells": [
  {
   "cell_type": "code",
   "execution_count": 1,
   "metadata": {},
   "outputs": [],
   "source": [
    "from abc import ABCMeta,abstractclassmethod"
   ]
  },
  {
   "cell_type": "code",
   "execution_count": 46,
   "metadata": {},
   "outputs": [],
   "source": [
    "class WaterHeater:\n",
    "    def __init__(self):\n",
    "        self._observers = []\n",
    "        self._temperature = 25\n",
    "\n",
    "    def getTemperature(self):\n",
    "        return self._temperature\n",
    "\n",
    "    def setTemperatrue(self,temperture):\n",
    "        self._temperature = temperture\n",
    "        print(\"当前温度:\"+str(self._temperature)+\" \")\n",
    "        self.notifies()\n",
    "\n",
    "    def addObserver(self,observer):\n",
    "        self._observers.append(observer)\n",
    "    \n",
    "    def notifies(self):\n",
    "        for o in self._observers:\n",
    "            o.update(self)"
   ]
  },
  {
   "cell_type": "code",
   "execution_count": 47,
   "metadata": {},
   "outputs": [],
   "source": [
    "class Observer(metaclass=ABCMeta):\n",
    "    @abstractclassmethod\n",
    "    def update(self,waterHeater):\n",
    "        pass"
   ]
  },
  {
   "cell_type": "code",
   "execution_count": 48,
   "metadata": {},
   "outputs": [],
   "source": [
    "class WashingMode(Observer):\n",
    "    def update(self,waterHeater):\n",
    "        if waterHeater.getTemperature() >= 50 and waterHeater.getTemperature() <= 70:\n",
    "            print(\"水温合适，可以洗澡了！\")"
   ]
  },
  {
   "cell_type": "code",
   "execution_count": 49,
   "metadata": {},
   "outputs": [],
   "source": [
    "class DrinkingMode(Observer):\n",
    "    def update(self,waterHeater):\n",
    "        if waterHeater.getTemperature() >= 100:\n",
    "            print(\"水已经烧开，可以喝了！\")\n",
    "            "
   ]
  },
  {
   "cell_type": "code",
   "execution_count": 50,
   "metadata": {},
   "outputs": [
    {
     "name": "stdout",
     "output_type": "stream",
     "text": [
      "当前温度:15 \n",
      "当前温度:20 \n",
      "当前温度:56 \n",
      "水温合适，可以洗澡了！\n",
      "当前温度:100 \n",
      "水已经烧开，可以喝了！\n"
     ]
    }
   ],
   "source": [
    "heater = WaterHeater()\n",
    "washingObser = WashingMode()\n",
    "drinkingObser = DrinkingMode()\n",
    "heater.addObserver(washingObser)\n",
    "heater.addObserver(drinkingObser)\n",
    "heater.setTemperatrue(15)\n",
    "heater.setTemperatrue(20)\n",
    "heater.setTemperatrue(56)\n",
    "heater.setTemperatrue(100)"
   ]
  }
 ],
 "metadata": {
  "interpreter": {
   "hash": "51abaa6c8c23d5e53afef76ec291cd02f37362fe3fed33804efd72f45aee7486"
  },
  "kernelspec": {
   "display_name": "Python 3.7.11 ('py37')",
   "language": "python",
   "name": "python3"
  },
  "language_info": {
   "codemirror_mode": {
    "name": "ipython",
    "version": 3
   },
   "file_extension": ".py",
   "mimetype": "text/x-python",
   "name": "python",
   "nbconvert_exporter": "python",
   "pygments_lexer": "ipython3",
   "version": "3.7.11"
  },
  "orig_nbformat": 4
 },
 "nbformat": 4,
 "nbformat_minor": 2
}
