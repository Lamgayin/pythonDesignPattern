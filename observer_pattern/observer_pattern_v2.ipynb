{
 "cells": [
  {
   "cell_type": "code",
   "execution_count": 41,
   "metadata": {},
   "outputs": [],
   "source": [
    "from abc import ABCMeta,abstractclassmethod"
   ]
  },
  {
   "cell_type": "code",
   "execution_count": 42,
   "metadata": {},
   "outputs": [],
   "source": [
    "from Observe import Observer,Observable"
   ]
  },
  {
   "cell_type": "code",
   "execution_count": 43,
   "metadata": {},
   "outputs": [],
   "source": [
    "class WaterHeater(Observable):\n",
    "    def __init__(self):\n",
    "        super().__init__()\n",
    "        self._temperature = 25\n",
    "\n",
    "    def getTemperature(self):\n",
    "        return self._temperature\n",
    "\n",
    "    def setTemperatrue(self,temperture):\n",
    "        self._temperature = temperture\n",
    "        print(\"当前温度:\"+str(self._temperature)+\" \")\n",
    "        self.notifyObservers()"
   ]
  },
  {
   "cell_type": "code",
   "execution_count": 44,
   "metadata": {},
   "outputs": [],
   "source": [
    "class WashingMode(Observer):\n",
    "    def update(self,observable,object):\n",
    "        if isinstance(observable,WaterHeater) and observable.getTemperature()>=50 and observable.getTemperature()<70:\n",
    "            print(\"水温合适，可以洗澡了！\")"
   ]
  },
  {
   "cell_type": "code",
   "execution_count": 45,
   "metadata": {},
   "outputs": [],
   "source": [
    "class DrinkingMode(Observer):\n",
    "    def update(self,observable,object):\n",
    "        if isinstance(observable,WaterHeater) and observable.getTemperature()>=100:\n",
    "            print(\"水温合适，可以饮用！\")"
   ]
  },
  {
   "cell_type": "code",
   "execution_count": 46,
   "metadata": {},
   "outputs": [],
   "source": [
    "heater = WaterHeater()\n",
    "WashingObser = WashingMode()\n",
    "DrinkingObser = DrinkingMode()\n",
    "heater.addObservers(WashingObser)\n",
    "heater.addObservers(DrinkingObser)"
   ]
  },
  {
   "cell_type": "code",
   "execution_count": 47,
   "metadata": {},
   "outputs": [
    {
     "name": "stdout",
     "output_type": "stream",
     "text": [
      "当前温度:15 \n",
      "当前温度:100 \n",
      "水温合适，可以饮用！\n",
      "当前温度:20 \n",
      "当前温度:56 \n",
      "水温合适，可以洗澡了！\n"
     ]
    }
   ],
   "source": [
    "heater.setTemperatrue(15)\n",
    "heater.setTemperatrue(100)\n",
    "heater.setTemperatrue(20)\n",
    "heater.setTemperatrue(56)"
   ]
  }
 ],
 "metadata": {
  "interpreter": {
   "hash": "51abaa6c8c23d5e53afef76ec291cd02f37362fe3fed33804efd72f45aee7486"
  },
  "kernelspec": {
   "display_name": "Python 3.7.11 ('py37')",
   "language": "python",
   "name": "python3"
  },
  "language_info": {
   "codemirror_mode": {
    "name": "ipython",
    "version": 3
   },
   "file_extension": ".py",
   "mimetype": "text/x-python",
   "name": "python",
   "nbconvert_exporter": "python",
   "pygments_lexer": "ipython3",
   "version": "3.7.11"
  },
  "orig_nbformat": 4
 },
 "nbformat": 4,
 "nbformat_minor": 2
}
