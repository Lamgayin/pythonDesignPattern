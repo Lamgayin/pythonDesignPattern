{
 "cells": [
  {
   "cell_type": "code",
   "execution_count": 1,
   "metadata": {},
   "outputs": [],
   "source": [
    "from abc import ABCMeta,abstractclassmethod"
   ]
  },
  {
   "cell_type": "code",
   "execution_count": 2,
   "metadata": {},
   "outputs": [],
   "source": [
    "class State(metaclass=ABCMeta):\n",
    "    \"State Category\"\n",
    "    def __init__(self,name):\n",
    "        self._name=name\n",
    "    def getName(self):\n",
    "        return self._name\n",
    "    \n",
    "    @abstractclassmethod\n",
    "    def behavior(self,water):\n",
    "        pass"
   ]
  },
  {
   "cell_type": "code",
   "execution_count": 24,
   "metadata": {},
   "outputs": [],
   "source": [
    "class SolidState(State):\n",
    "    \"\"\"固态\"\"\"\n",
    "    def __init__(self,name):\n",
    "        super().__init__(name)\n",
    "    def behavior(self,water):\n",
    "        print(\"当前是固态，温度为： \"+str(water.getTemperature())+\"°C\")"
   ]
  },
  {
   "cell_type": "code",
   "execution_count": 15,
   "metadata": {},
   "outputs": [],
   "source": [
    "class LiquidState(State):\n",
    "    \"\"\"液态\"\"\"\n",
    "    def __init__(self,name):\n",
    "        super().__init__(name)\n",
    "    def behavior(self,water):\n",
    "        print(\"当前是液态，温度为： \"+str(water.getTemperature())+\"°C\")"
   ]
  },
  {
   "cell_type": "code",
   "execution_count": 16,
   "metadata": {},
   "outputs": [],
   "source": [
    "class GaseousState(State):\n",
    "    \"\"\"液态\"\"\"\n",
    "    def __init__(self,name):\n",
    "        super().__init__(name)\n",
    "    def behavior(self,water):\n",
    "        print(\"GaseousState \"+str(water.getTemperature())+\"°C\")"
   ]
  },
  {
   "cell_type": "code",
   "execution_count": 20,
   "metadata": {},
   "outputs": [],
   "source": [
    "class Water:\n",
    "    \"H2O\"\n",
    "    def __init__(self,state):\n",
    "        self._temperature=25\n",
    "        self._state = state\n",
    "    \n",
    "    def setState(self,state):\n",
    "        self._state = state\n",
    "    \n",
    "    def changeState(self,state):\n",
    "        if(self._state):\n",
    "            print(\"FROM \",self._state.getName(),\"TO \",state.getName())\n",
    "        else:\n",
    "            print(\"Init state： \",self._state.getName())\n",
    "        self._state = state\n",
    "    \n",
    "    def getTemperature(self):\n",
    "        return self._temperature\n",
    "    \n",
    "    def setTemperature(self,temperature):\n",
    "        self._temperature = temperature\n",
    "        if(self._temperature<=0):\n",
    "            self.changeState(SolidState(\"固态\"))\n",
    "        elif(self._temperature<=100 and self._temperature>0):\n",
    "            self.changeState(LiquidState(\"液态\"))\n",
    "        else:\n",
    "            self.changeState(GaseousState(\"气态\"))\n",
    "    \n",
    "    def riseTemperature(self,step):\n",
    "        self.setTemperature(self._temperature+step)\n",
    "\n",
    "    def reduceTemperature(self,step):\n",
    "        self.setTemperature(self._temperature-step)\n",
    "    \n",
    "    def behavior(self):\n",
    "        self._state.behavior(self)"
   ]
  },
  {
   "cell_type": "code",
   "execution_count": 23,
   "metadata": {},
   "outputs": [
    {
     "name": "stdout",
     "output_type": "stream",
     "text": [
      "LiquidState 25°C\n",
      "FROM  液态 TO  固态\n",
      "SolidState -4°C\n"
     ]
    }
   ],
   "source": [
    "def testState():\n",
    "    water = Water(LiquidState(\"液态\"))\n",
    "    water.behavior()\n",
    "    water.setTemperature(-4)\n",
    "    water.behavior()\n",
    "\n",
    "    water.riseTemperature(118)\n",
    "    water.behavior()\n",
    "    water.reduceTemperature(100)\n",
    "    water.behavior()\n",
    "testState()"
   ]
  }
 ],
 "metadata": {
  "interpreter": {
   "hash": "51abaa6c8c23d5e53afef76ec291cd02f37362fe3fed33804efd72f45aee7486"
  },
  "kernelspec": {
   "display_name": "Python 3.7.11 ('py37')",
   "language": "python",
   "name": "python3"
  },
  "language_info": {
   "codemirror_mode": {
    "name": "ipython",
    "version": 3
   },
   "file_extension": ".py",
   "mimetype": "text/x-python",
   "name": "python",
   "nbconvert_exporter": "python",
   "pygments_lexer": "ipython3",
   "version": "3.7.11"
  },
  "orig_nbformat": 4
 },
 "nbformat": 4,
 "nbformat_minor": 2
}
