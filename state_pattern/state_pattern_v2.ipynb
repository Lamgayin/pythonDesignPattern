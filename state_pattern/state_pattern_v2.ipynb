{
 "cells": [
  {
   "cell_type": "code",
   "execution_count": 30,
   "metadata": {},
   "outputs": [],
   "source": [
    "from abc import ABCMeta,abstractclassmethod"
   ]
  },
  {
   "cell_type": "code",
   "execution_count": 31,
   "metadata": {},
   "outputs": [],
   "source": [
    "class Context(metaclass=ABCMeta):\n",
    "    def __init__(self):\n",
    "        self._states=[]\n",
    "        self._curState = None\n",
    "        self._stateInfo=0\n",
    "\n",
    "    def addState(self,state):\n",
    "        if(state not in self._states):\n",
    "            self._states.append(state)\n",
    "    \n",
    "    def changeState(self,state):\n",
    "        if(state is None):\n",
    "            return False\n",
    "        if(self._curState is None):\n",
    "            print(\"Init \",state.getName())\n",
    "        else:\n",
    "            print(\"From \",self._curState.getName(),\" To \",state.getName())\n",
    "        self._curState = state\n",
    "        self.addState(state)\n",
    "        return True\n",
    "\n",
    "    def getState(self):\n",
    "        return self._curState\n",
    "\n",
    "    def _setStateInfo(self,stateInfo):\n",
    "        self._stateInfo = stateInfo\n",
    "        for state in self._states:\n",
    "            if(state.isMatch(stateInfo)):\n",
    "                self.changeState(state)\n",
    "\n",
    "    def _getStateInfo(self):\n",
    "        return self._stateInfo       "
   ]
  },
  {
   "cell_type": "code",
   "execution_count": 32,
   "metadata": {},
   "outputs": [],
   "source": [
    "class State:\n",
    "    \"State Category\"\n",
    "    def __init__(self,name):\n",
    "        self._name=name\n",
    "    def getName(self):\n",
    "        return self._name\n",
    "    def isMatch(self,stateInfo):\n",
    "        return False\n",
    "    @abstractclassmethod\n",
    "    def behavior(self,water):\n",
    "        pass"
   ]
  },
  {
   "cell_type": "code",
   "execution_count": 33,
   "metadata": {},
   "outputs": [],
   "source": [
    "def singleton(cls,*args,**kwargs):\n",
    "    \"\"\"crete singleton\"\"\"\n",
    "    instance = {}\n",
    "    def _singleton(*args,**kwargs):\n",
    "        if cls not in instance:\n",
    "            instance[cls] = cls(*args,**kwargs)\n",
    "        return instance[cls]\n",
    "    return _singleton\n",
    "\n",
    "@singleton\n",
    "class SolidState(State):\n",
    "    \"\"\"固态\"\"\"\n",
    "    def __init__(self,name):\n",
    "        super().__init__(name)\n",
    "    def isMatch(self,stateInfo):\n",
    "        return stateInfo<0\n",
    "    def behavior(self,context):\n",
    "        print(\"当前是固态，温度为： \"+str(context.getTemperature())+\"°C\")\n",
    "        print(\"\")\n",
    "\n",
    "@singleton\n",
    "class LiquidState(State):\n",
    "    \"\"\"液态\"\"\"\n",
    "    def __init__(self,name):\n",
    "        super().__init__(name)\n",
    "    def isMatch(self,stateInfo):\n",
    "        return (stateInfo>=0 and stateInfo<=100)\n",
    "    def behavior(self,context):\n",
    "        print(\"当前是液态，温度为： \"+str(context.getTemperature())+\"°C\")\n",
    "        print(\"\")\n",
    "\n",
    "@singleton\n",
    "class GaseousState(State):\n",
    "    \"\"\"气态\"\"\"\n",
    "    def __init__(self,name):\n",
    "        super().__init__(name)\n",
    "    def isMatch(self,stateInfo):\n",
    "        return stateInfo>100\n",
    "    def behavior(self,water):\n",
    "        print(\"当前是气态，温度为：\"+str(water.getTemperature())+\"°C\")\n",
    "        print(\"\")"
   ]
  },
  {
   "cell_type": "code",
   "execution_count": 37,
   "metadata": {},
   "outputs": [],
   "source": [
    "class Water(Context):\n",
    "    \"\"\"Water\"\"\"\n",
    "    def __init__(self):\n",
    "        super().__init__()\n",
    "        self.addState(SolidState(\"固态\"))\n",
    "        self.addState(LiquidState(\"液态\"))\n",
    "        self.addState(GaseousState(\"气态\"))\n",
    "        self.setTemperature(25)\n",
    "        \n",
    "    def getTemperature(self):\n",
    "        return self._getStateInfo()\n",
    "    \n",
    "    def setTemperature(self,temperature):\n",
    "        self._setStateInfo(temperature)\n",
    "    \n",
    "    def riseTemperature(self,step):\n",
    "        self.setTemperature(self.getTemperature()+step)\n",
    "\n",
    "    def reduceTemperature(self,step):\n",
    "        self.setTemperature(self.getTemperature()-step)\n",
    "\n",
    "    def behavior(self):\n",
    "        state = self.getState()\n",
    "        if(isinstance(state,State)):\n",
    "            state.behavior(self)"
   ]
  },
  {
   "cell_type": "code",
   "execution_count": 38,
   "metadata": {},
   "outputs": [
    {
     "name": "stdout",
     "output_type": "stream",
     "text": [
      "Init  液态\n",
      "当前是液态，温度为： 25°C\n",
      "\n",
      "From  液态  To  固态\n",
      "当前是固态，温度为： -4°C\n",
      "\n",
      "From  固态  To  气态\n",
      "当前是气态，温度为：114°C\n",
      "\n",
      "From  气态  To  液态\n",
      "当前是液态，温度为： 14°C\n",
      "\n"
     ]
    }
   ],
   "source": [
    "def testState():\n",
    "    water = Water()\n",
    "    water.behavior()\n",
    "    water.setTemperature(-4)\n",
    "    water.behavior()\n",
    "    water.riseTemperature(118)\n",
    "    water.behavior()\n",
    "    water.reduceTemperature(100)\n",
    "    water.behavior()\n",
    "testState()"
   ]
  }
 ],
 "metadata": {
  "interpreter": {
   "hash": "51abaa6c8c23d5e53afef76ec291cd02f37362fe3fed33804efd72f45aee7486"
  },
  "kernelspec": {
   "display_name": "Python 3.7.11 ('py37')",
   "language": "python",
   "name": "python3"
  },
  "language_info": {
   "codemirror_mode": {
    "name": "ipython",
    "version": 3
   },
   "file_extension": ".py",
   "mimetype": "text/x-python",
   "name": "python",
   "nbconvert_exporter": "python",
   "pygments_lexer": "ipython3",
   "version": "3.7.11"
  },
  "orig_nbformat": 4
 },
 "nbformat": 4,
 "nbformat_minor": 2
}
